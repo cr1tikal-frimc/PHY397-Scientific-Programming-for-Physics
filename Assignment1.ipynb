{
 "cells": [
  {
   "cell_type": "markdown",
   "metadata": {},
   "source": [
    "# Poisson's Equation\n",
    "\n",
    "* $\\nabla ^2 \\phi = -\\rho$\n",
    "\n",
    "- Index: 3502422\n",
    "- Reference: 20916691"
   ]
  },
  {
   "cell_type": "code",
   "execution_count": null,
   "metadata": {},
   "outputs": [],
   "source": [
    "import numpy as np\n",
    "import matplotlib.pyplot as plt\n",
    "\n",
    "class pde:\n",
    "    def __init__(self, func, var, N, h):\n",
    "        self.func = func\n",
    "        self.var = var \n",
    "        self.N = N\n",
    "        self.h = h\n",
    "\n",
    "\n",
    "\n",
    "\n",
    "    "
   ]
  },
  {
   "cell_type": "code",
   "execution_count": null,
   "metadata": {},
   "outputs": [],
   "source": [
    "\n",
    "\n"
   ]
  }
 ],
 "metadata": {
  "kernelspec": {
   "display_name": "Python 3",
   "language": "python",
   "name": "python3"
  },
  "language_info": {
   "name": "python",
   "version": "3.13.1"
  }
 },
 "nbformat": 4,
 "nbformat_minor": 2
}
